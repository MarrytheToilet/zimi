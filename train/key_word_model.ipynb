{
 "cells": [
  {
   "cell_type": "code",
   "execution_count": 1,
   "metadata": {},
   "outputs": [],
   "source": [
    "import os\n",
    "\n",
    "# 数据路径配置\n",
    "train_data_path = \"../data/riddles/zimi/zimi_train_data.csv\"\n",
    "model_save_path = \"../models/keyword_extractor\"\n",
    "\n",
    "# 模型和Tokenizer路径\n",
    "pretrained_model_name = \"fnlp/bart-base-chinese\"\n",
    "\n",
    "# 超参数配置\n",
    "max_length = 50\n",
    "batch_size = 16\n",
    "learning_rate = 5e-5\n",
    "num_epochs = 5\n",
    "test_size = 0.2\n",
    "\n",
    "# 检查并创建保存模型的目录\n",
    "if not os.path.exists(model_save_path):\n",
    "    os.makedirs(model_save_path)\n"
   ]
  },
  {
   "cell_type": "code",
   "execution_count": 2,
   "metadata": {},
   "outputs": [
    {
     "name": "stderr",
     "output_type": "stream",
     "text": [
      "2024-06-09 03:35:00.770598: I external/local_tsl/tsl/cuda/cudart_stub.cc:31] Could not find cuda drivers on your machine, GPU will not be used.\n",
      "2024-06-09 03:35:01.001475: E external/local_xla/xla/stream_executor/cuda/cuda_dnn.cc:9261] Unable to register cuDNN factory: Attempting to register factory for plugin cuDNN when one has already been registered\n",
      "2024-06-09 03:35:01.001577: E external/local_xla/xla/stream_executor/cuda/cuda_fft.cc:607] Unable to register cuFFT factory: Attempting to register factory for plugin cuFFT when one has already been registered\n",
      "2024-06-09 03:35:01.043600: E external/local_xla/xla/stream_executor/cuda/cuda_blas.cc:1515] Unable to register cuBLAS factory: Attempting to register factory for plugin cuBLAS when one has already been registered\n",
      "2024-06-09 03:35:01.140209: I external/local_tsl/tsl/cuda/cudart_stub.cc:31] Could not find cuda drivers on your machine, GPU will not be used.\n",
      "2024-06-09 03:35:01.142599: I tensorflow/core/platform/cpu_feature_guard.cc:182] This TensorFlow binary is optimized to use available CPU instructions in performance-critical operations.\n",
      "To enable the following instructions: AVX2 FMA, in other operations, rebuild TensorFlow with the appropriate compiler flags.\n",
      "2024-06-09 03:35:02.958666: W tensorflow/compiler/tf2tensorrt/utils/py_utils.cc:38] TF-TRT Warning: Could not find TensorRT\n"
     ]
    }
   ],
   "source": [
    "import pandas as pd\n",
    "import ast\n",
    "import matplotlib.pyplot as plt\n",
    "from transformers import BertTokenizer, BartForConditionalGeneration, Text2TextGenerationPipeline\n",
    "from torch.utils.data import Dataset, DataLoader\n",
    "import torch\n",
    "from sklearn.model_selection import train_test_split\n",
    "from tqdm import tqdm\n",
    "from sklearn.metrics import accuracy_score"
   ]
  },
  {
   "cell_type": "code",
   "execution_count": 3,
   "metadata": {},
   "outputs": [
    {
     "data": {
      "text/html": [
       "<div>\n",
       "<style scoped>\n",
       "    .dataframe tbody tr th:only-of-type {\n",
       "        vertical-align: middle;\n",
       "    }\n",
       "\n",
       "    .dataframe tbody tr th {\n",
       "        vertical-align: top;\n",
       "    }\n",
       "\n",
       "    .dataframe thead th {\n",
       "        text-align: right;\n",
       "    }\n",
       "</style>\n",
       "<table border=\"1\" class=\"dataframe\">\n",
       "  <thead>\n",
       "    <tr style=\"text-align: right;\">\n",
       "      <th></th>\n",
       "      <th>字符</th>\n",
       "      <th>笔画数</th>\n",
       "      <th>拼音</th>\n",
       "      <th>偏旁部首</th>\n",
       "      <th>频率</th>\n",
       "      <th>结构代码</th>\n",
       "      <th>拆字</th>\n",
       "      <th>结构方式</th>\n",
       "      <th>间架比例</th>\n",
       "      <th>char</th>\n",
       "      <th>index</th>\n",
       "      <th>pinyin</th>\n",
       "      <th>pronunciation_details</th>\n",
       "      <th>结构谜底</th>\n",
       "      <th>拆字谜底</th>\n",
       "      <th>谜底</th>\n",
       "      <th>字谜</th>\n",
       "    </tr>\n",
       "  </thead>\n",
       "  <tbody>\n",
       "    <tr>\n",
       "      <th>0</th>\n",
       "      <td>当</td>\n",
       "      <td>6</td>\n",
       "      <td>dàng</td>\n",
       "      <td>彐</td>\n",
       "      <td>0</td>\n",
       "      <td>B0</td>\n",
       "      <td>[小 彐]</td>\n",
       "      <td>上下结构</td>\n",
       "      <td>上下结构</td>\n",
       "      <td>当</td>\n",
       "      <td>418.0</td>\n",
       "      <td>dàng</td>\n",
       "      <td>{'pinyin': 'dàng', 'explanations': [{'content'...</td>\n",
       "      <td>[上下]</td>\n",
       "      <td>小彐</td>\n",
       "      <td>[上下]小彐</td>\n",
       "      <td>天空翱翔小，大地奔腾彐</td>\n",
       "    </tr>\n",
       "    <tr>\n",
       "      <th>1</th>\n",
       "      <td>泛</td>\n",
       "      <td>7</td>\n",
       "      <td>fàn</td>\n",
       "      <td>氵</td>\n",
       "      <td>1</td>\n",
       "      <td>H2</td>\n",
       "      <td>[水 乏, 氵 乏]</td>\n",
       "      <td>左右结构</td>\n",
       "      <td>左窄右宽</td>\n",
       "      <td>泛</td>\n",
       "      <td>865.0</td>\n",
       "      <td>fàn</td>\n",
       "      <td>{'pinyin': 'fàn', 'explanations': [{'content':...</td>\n",
       "      <td>[左右]</td>\n",
       "      <td>水乏</td>\n",
       "      <td>[左右]水乏</td>\n",
       "      <td>梦想左眼水，现实右眼乏</td>\n",
       "    </tr>\n",
       "    <tr>\n",
       "      <th>2</th>\n",
       "      <td>所</td>\n",
       "      <td>8</td>\n",
       "      <td>suǒ</td>\n",
       "      <td>户</td>\n",
       "      <td>0</td>\n",
       "      <td>H1</td>\n",
       "      <td>[戶 斤, 户 斤, 戸 斤]</td>\n",
       "      <td>左右结构</td>\n",
       "      <td>左右相等</td>\n",
       "      <td>所</td>\n",
       "      <td>1164.0</td>\n",
       "      <td>suǒ</td>\n",
       "      <td>{'pinyin': 'suǒ', 'explanations': [{'content':...</td>\n",
       "      <td>[左右]</td>\n",
       "      <td>戶斤</td>\n",
       "      <td>[左右]戶斤</td>\n",
       "      <td>左部分戶，右部分斤</td>\n",
       "    </tr>\n",
       "    <tr>\n",
       "      <th>3</th>\n",
       "      <td>孩</td>\n",
       "      <td>9</td>\n",
       "      <td>hái</td>\n",
       "      <td>子</td>\n",
       "      <td>1</td>\n",
       "      <td>H0</td>\n",
       "      <td>[子 亥]</td>\n",
       "      <td>左右结构</td>\n",
       "      <td>左右结构</td>\n",
       "      <td>孩</td>\n",
       "      <td>1730.0</td>\n",
       "      <td>hái</td>\n",
       "      <td>{'pinyin': 'hái', 'explanations': [{'content':...</td>\n",
       "      <td>[左右]</td>\n",
       "      <td>子亥</td>\n",
       "      <td>[左右]子亥</td>\n",
       "      <td>左子右亥，互为表里</td>\n",
       "    </tr>\n",
       "    <tr>\n",
       "      <th>4</th>\n",
       "      <td>仇</td>\n",
       "      <td>4</td>\n",
       "      <td>qiú</td>\n",
       "      <td>亻</td>\n",
       "      <td>1</td>\n",
       "      <td>H2</td>\n",
       "      <td>[人 九, 亻 九]</td>\n",
       "      <td>左右结构</td>\n",
       "      <td>左窄右宽</td>\n",
       "      <td>仇</td>\n",
       "      <td>133.0</td>\n",
       "      <td>qiú</td>\n",
       "      <td>{'pinyin': 'qiú', 'explanations': [{'content':...</td>\n",
       "      <td>[左右]</td>\n",
       "      <td>人九</td>\n",
       "      <td>[左右]人九</td>\n",
       "      <td>梦想左眼人，现实右眼九</td>\n",
       "    </tr>\n",
       "  </tbody>\n",
       "</table>\n",
       "</div>"
      ],
      "text/plain": [
       "  字符  笔画数    拼音 偏旁部首  频率 结构代码               拆字  结构方式  间架比例 char   index  \\\n",
       "0  当    6  dàng    彐   0   B0            [小 彐]  上下结构  上下结构    当   418.0   \n",
       "1  泛    7   fàn    氵   1   H2       [水 乏, 氵 乏]  左右结构  左窄右宽    泛   865.0   \n",
       "2  所    8   suǒ    户   0   H1  [戶 斤, 户 斤, 戸 斤]  左右结构  左右相等    所  1164.0   \n",
       "3  孩    9   hái    子   1   H0            [子 亥]  左右结构  左右结构    孩  1730.0   \n",
       "4  仇    4   qiú    亻   1   H2       [人 九, 亻 九]  左右结构  左窄右宽    仇   133.0   \n",
       "\n",
       "  pinyin                              pronunciation_details  结构谜底 拆字谜底  \\\n",
       "0   dàng  {'pinyin': 'dàng', 'explanations': [{'content'...  [上下]   小彐   \n",
       "1    fàn  {'pinyin': 'fàn', 'explanations': [{'content':...  [左右]   水乏   \n",
       "2    suǒ  {'pinyin': 'suǒ', 'explanations': [{'content':...  [左右]   戶斤   \n",
       "3    hái  {'pinyin': 'hái', 'explanations': [{'content':...  [左右]   子亥   \n",
       "4    qiú  {'pinyin': 'qiú', 'explanations': [{'content':...  [左右]   人九   \n",
       "\n",
       "       谜底           字谜  \n",
       "0  [上下]小彐  天空翱翔小，大地奔腾彐  \n",
       "1  [左右]水乏  梦想左眼水，现实右眼乏  \n",
       "2  [左右]戶斤    左部分戶，右部分斤  \n",
       "3  [左右]子亥    左子右亥，互为表里  \n",
       "4  [左右]人九  梦想左眼人，现实右眼九  "
      ]
     },
     "execution_count": 3,
     "metadata": {},
     "output_type": "execute_result"
    }
   ],
   "source": [
    "# 安全地将字符串转换为原始格式（列表或字典），对于无效格式返回原始值。\n",
    "def safe_literal_eval(val):\n",
    "    try:\n",
    "        return ast.literal_eval(val) if not pd.isna(val) else val\n",
    "    except (ValueError, SyntaxError):\n",
    "        return val\n",
    "\n",
    "# 读取数据\n",
    "zimi_df = pd.read_csv(train_data_path).dropna()\n",
    "zimi_df['拆字'] = zimi_df['拆字'].apply(safe_literal_eval)\n",
    "zimi_df['pronunciation_details'] = zimi_df['pronunciation_details'].apply(safe_literal_eval)\n",
    "zimi_df.head(5)\n"
   ]
  },
  {
   "cell_type": "code",
   "execution_count": 4,
   "metadata": {},
   "outputs": [
    {
     "data": {
      "text/html": [
       "<div>\n",
       "<style scoped>\n",
       "    .dataframe tbody tr th:only-of-type {\n",
       "        vertical-align: middle;\n",
       "    }\n",
       "\n",
       "    .dataframe tbody tr th {\n",
       "        vertical-align: top;\n",
       "    }\n",
       "\n",
       "    .dataframe thead th {\n",
       "        text-align: right;\n",
       "    }\n",
       "</style>\n",
       "<table border=\"1\" class=\"dataframe\">\n",
       "  <thead>\n",
       "    <tr style=\"text-align: right;\">\n",
       "      <th></th>\n",
       "      <th>input</th>\n",
       "      <th>output</th>\n",
       "    </tr>\n",
       "  </thead>\n",
       "  <tbody>\n",
       "    <tr>\n",
       "      <th>0</th>\n",
       "      <td>请抽取字谜中的关键字：天空翱翔小，大地奔腾彐。字谜中的关键字是：</td>\n",
       "      <td>小彐</td>\n",
       "    </tr>\n",
       "    <tr>\n",
       "      <th>1</th>\n",
       "      <td>请抽取字谜中的关键字：梦想左眼水，现实右眼乏。字谜中的关键字是：</td>\n",
       "      <td>水乏</td>\n",
       "    </tr>\n",
       "    <tr>\n",
       "      <th>2</th>\n",
       "      <td>请抽取字谜中的关键字：左部分戶，右部分斤。字谜中的关键字是：</td>\n",
       "      <td>戶斤</td>\n",
       "    </tr>\n",
       "    <tr>\n",
       "      <th>3</th>\n",
       "      <td>请抽取字谜中的关键字：左子右亥，互为表里。字谜中的关键字是：</td>\n",
       "      <td>子亥</td>\n",
       "    </tr>\n",
       "    <tr>\n",
       "      <th>4</th>\n",
       "      <td>请抽取字谜中的关键字：梦想左眼人，现实右眼九。字谜中的关键字是：</td>\n",
       "      <td>人九</td>\n",
       "    </tr>\n",
       "  </tbody>\n",
       "</table>\n",
       "</div>"
      ],
      "text/plain": [
       "                              input output\n",
       "0  请抽取字谜中的关键字：天空翱翔小，大地奔腾彐。字谜中的关键字是：     小彐\n",
       "1  请抽取字谜中的关键字：梦想左眼水，现实右眼乏。字谜中的关键字是：     水乏\n",
       "2    请抽取字谜中的关键字：左部分戶，右部分斤。字谜中的关键字是：     戶斤\n",
       "3    请抽取字谜中的关键字：左子右亥，互为表里。字谜中的关键字是：     子亥\n",
       "4  请抽取字谜中的关键字：梦想左眼人，现实右眼九。字谜中的关键字是：     人九"
      ]
     },
     "execution_count": 4,
     "metadata": {},
     "output_type": "execute_result"
    }
   ],
   "source": [
    "data = zimi_df.copy()\n",
    "\n",
    "inputs = data[\"字谜\"].apply(lambda x: f\"请抽取字谜中的关键字：{x}。字谜中的关键字是：\")\n",
    "outputs = data[\"拆字谜底\"].apply(lambda x: f\"{x}\")\n",
    "\n",
    "sft_dataset = pd.DataFrame({\"input\": inputs, \"output\": outputs})\n",
    "sft_dataset.head()"
   ]
  },
  {
   "cell_type": "code",
   "execution_count": 5,
   "metadata": {},
   "outputs": [],
   "source": [
    "class KeywordDataset(Dataset):\n",
    "    def __init__(self, tokenizer, input_texts, target_texts, max_length):\n",
    "        self.input_texts = input_texts\n",
    "        self.target_texts = target_texts\n",
    "        self.max_length = max_length\n",
    "        self.tokenizer = tokenizer\n",
    "\n",
    "    def __len__(self):\n",
    "        return len(self.input_texts)\n",
    "\n",
    "    def __getitem__(self, idx):\n",
    "        input_text = self.input_texts[idx]\n",
    "        target_text = self.target_texts[idx]\n",
    "\n",
    "        input_encoding = self.tokenizer(input_text, padding='max_length', truncation=True, max_length=self.max_length, return_token_type_ids=False)\n",
    "        target_encoding = self.tokenizer(target_text, padding='max_length', truncation=True, max_length=self.max_length, return_token_type_ids=False)\n",
    "\n",
    "        inputs = {key: torch.tensor(val) for key, val in input_encoding.items()}\n",
    "        targets = {key: torch.tensor(val) for key, val in target_encoding.items()}\n",
    "\n",
    "        return inputs, targets\n"
   ]
  },
  {
   "cell_type": "code",
   "execution_count": 6,
   "metadata": {},
   "outputs": [],
   "source": [
    "tokenizer = BertTokenizer.from_pretrained(pretrained_model_name)\n",
    "model = BartForConditionalGeneration.from_pretrained(pretrained_model_name).to('cuda')"
   ]
  },
  {
   "cell_type": "code",
   "execution_count": 7,
   "metadata": {},
   "outputs": [],
   "source": [
    "# 创建数据集和数据加载器\n",
    "data = sft_dataset.copy()\n",
    "dataset = KeywordDataset(tokenizer, list(data['input']), list(data['output']), max_length=max_length)\n",
    "dataloader = DataLoader(dataset, batch_size=batch_size, shuffle=True)\n"
   ]
  },
  {
   "cell_type": "code",
   "execution_count": 8,
   "metadata": {},
   "outputs": [],
   "source": [
    "def plot_losses(train_losses, val_losses):\n",
    "    plt.figure(figsize=(6, 4))\n",
    "    plt.plot(train_losses, label='Training Loss', color='blue', linestyle='-', linewidth=2, marker='o')\n",
    "    plt.plot(val_losses, label='Validation Loss', color='red', linestyle='--', linewidth=2, marker='x')\n",
    "    plt.xlabel('Epoch', fontsize=14)\n",
    "    plt.ylabel('Loss', fontsize=14)\n",
    "    plt.legend(fontsize=12)\n",
    "    plt.grid(True, linestyle='--', alpha=0.6)\n",
    "    plt.tight_layout()\n",
    "    plt.show()\n",
    "\n",
    "def plot_accuracies(val_accuracies):\n",
    "    plt.figure(figsize=(6, 4))\n",
    "    plt.plot(val_accuracies, label='Validation Accuracy', color='green', linestyle='-', linewidth=2, marker='s')\n",
    "    plt.xlabel('Epoch', fontsize=14)\n",
    "    plt.ylabel('Accuracy', fontsize=14)\n",
    "    plt.legend(fontsize=12)\n",
    "    plt.grid(True, linestyle='--', alpha=0.6)\n",
    "    plt.tight_layout()\n",
    "    plt.show()\n",
    "\n",
    "def evaluate(model, val_loader, tokenizer):\n",
    "    model.eval()\n",
    "    total_loss = 0\n",
    "    all_predictions = []\n",
    "    all_targets = []\n",
    "    \n",
    "    with torch.no_grad():\n",
    "        for batch in val_loader:\n",
    "            inputs, targets = batch\n",
    "            inputs = {k: v.to(model.device) for k, v in inputs.items()}\n",
    "            targets = {k: v.to(model.device) for k, v in targets.items()}\n",
    "\n",
    "            if 'token_type_ids' in inputs:\n",
    "                del inputs['token_type_ids']\n",
    "\n",
    "            outputs = model(**inputs, labels=targets['input_ids'])\n",
    "            total_loss += outputs.loss.item()\n",
    "\n",
    "            predictions = outputs.logits.argmax(dim=-1)\n",
    "\n",
    "            for pred, target in zip(predictions, targets['input_ids']):\n",
    "                pred_text = tokenizer.decode(pred, skip_special_tokens=True)\n",
    "                target_text = tokenizer.decode(target, skip_special_tokens=True)\n",
    "                all_predictions.append(pred_text)\n",
    "                all_targets.append(target_text)\n",
    "\n",
    "    avg_loss = total_loss / len(val_loader)\n",
    "    val_accuracy = accuracy_score(all_targets, all_predictions)\n",
    "\n",
    "    return avg_loss, val_accuracy\n",
    "\n",
    "def train(model, dataloader, val_loader, model_path, tokenizer):\n",
    "    model.train()\n",
    "    optimizer = torch.optim.Adam(model.parameters(), lr=learning_rate)\n",
    "    train_losses = []\n",
    "    val_losses = []\n",
    "    val_accuracies = []\n",
    "\n",
    "    for epoch in range(num_epochs):\n",
    "        total_loss = 0\n",
    "        loop = tqdm(dataloader, leave=True)\n",
    "        for batch in loop:\n",
    "            inputs, targets = batch\n",
    "            inputs = {k: v.to(model.device) for k, v in inputs.items()}\n",
    "            targets = {k: v.to(model.device) for k, v in targets.items()}\n",
    "            \n",
    "            if 'token_type_ids' in inputs:\n",
    "                del inputs['token_type_ids']\n",
    "            \n",
    "            outputs = model(**inputs, labels=targets['input_ids'])\n",
    "            loss = outputs.loss\n",
    "\n",
    "            optimizer.zero_grad()\n",
    "            loss.backward()\n",
    "            optimizer.step()\n",
    "\n",
    "            total_loss += loss.item()\n",
    "            loop.set_description(f'Epoch {epoch}')\n",
    "            loop.set_postfix(loss=loss.item())\n",
    "\n",
    "        avg_train_loss = total_loss / len(dataloader)\n",
    "        val_loss, val_accuracy = evaluate(model, val_loader, tokenizer)\n",
    "\n",
    "        train_losses.append(avg_train_loss)\n",
    "        val_losses.append(val_loss)\n",
    "        val_accuracies.append(val_accuracy)\n",
    "\n",
    "        print(f'Epoch {epoch}, Training Loss: {avg_train_loss}, Validation Loss: {val_loss}, Validation Accuracy: {val_accuracy}%')\n",
    "\n",
    "    plot_losses(train_losses, val_losses)\n",
    "    plot_accuracies(val_accuracies)\n",
    "\n",
    "    model.save_pretrained(model_path)\n",
    "    tokenizer.save_pretrained(model_path)\n"
   ]
  },
  {
   "cell_type": "code",
   "execution_count": 9,
   "metadata": {},
   "outputs": [
    {
     "name": "stderr",
     "output_type": "stream",
     "text": [
      "Epoch 0: 100%|██████████| 52/52 [00:10<00:00,  5.04it/s, loss=0.0633]\n"
     ]
    },
    {
     "name": "stdout",
     "output_type": "stream",
     "text": [
      "Epoch 0, Training Loss: 1.5028925040880075, Validation Loss: 0.046937136266093984, Validation Accuracy: 0.5776699029126213%\n"
     ]
    },
    {
     "name": "stderr",
     "output_type": "stream",
     "text": [
      "Epoch 1: 100%|██████████| 52/52 [00:10<00:00,  4.96it/s, loss=0.0241]  \n"
     ]
    },
    {
     "name": "stdout",
     "output_type": "stream",
     "text": [
      "Epoch 1, Training Loss: 0.022496950958156958, Validation Loss: 0.009296817293104071, Validation Accuracy: 0.912621359223301%\n"
     ]
    },
    {
     "name": "stderr",
     "output_type": "stream",
     "text": [
      "Epoch 2: 100%|██████████| 52/52 [00:10<00:00,  4.95it/s, loss=0.000446]\n"
     ]
    },
    {
     "name": "stdout",
     "output_type": "stream",
     "text": [
      "Epoch 2, Training Loss: 0.0066658568371517155, Validation Loss: 0.00479249123376436, Validation Accuracy: 0.970873786407767%\n"
     ]
    },
    {
     "name": "stderr",
     "output_type": "stream",
     "text": [
      "Epoch 3: 100%|██████████| 52/52 [00:10<00:00,  4.92it/s, loss=0.000388]\n"
     ]
    },
    {
     "name": "stdout",
     "output_type": "stream",
     "text": [
      "Epoch 3, Training Loss: 0.0027801483598663113, Validation Loss: 0.00327290441446866, Validation Accuracy: 0.9757281553398058%\n"
     ]
    },
    {
     "name": "stderr",
     "output_type": "stream",
     "text": [
      "Epoch 4: 100%|██████████| 52/52 [00:10<00:00,  4.89it/s, loss=0.000808]\n"
     ]
    },
    {
     "name": "stdout",
     "output_type": "stream",
     "text": [
      "Epoch 4, Training Loss: 0.0013145183877965722, Validation Loss: 0.002669172435372065, Validation Accuracy: 0.9854368932038835%\n"
     ]
    },
    {
     "data": {
      "image/png": "[encoded data removed]",
      "text/plain": [
       "<Figure size 600x400 with 1 Axes>"
      ]
     },
     "metadata": {},
     "output_type": "display_data"
    },
    {
     "data": {
      "image/png": "[encoded data removed]",
      "text/plain": [
       "<Figure size 600x400 with 1 Axes>"
      ]
     },
     "metadata": {},
     "output_type": "display_data"
    }
   ],
   "source": [
    "# 分割数据为训练集和验证集\n",
    "train_data, val_data = train_test_split(data, test_size=test_size, random_state=42)\n",
    "\n",
    "# 创建训练集的DataLoader\n",
    "train_dataset = KeywordDataset(tokenizer, list(train_data['input']), list(train_data['output']), max_length=max_length)\n",
    "train_loader = DataLoader(train_dataset, batch_size=batch_size, shuffle=True)\n",
    "\n",
    "# 创建验证集的DataLoader\n",
    "val_dataset = KeywordDataset(tokenizer, list(val_data['input']), list(val_data['output']), max_length=max_length)\n",
    "val_loader = DataLoader(val_dataset, batch_size=batch_size, shuffle=False)\n",
    "\n",
    "# 开始训练并保存模型\n",
    "train(model, train_loader, val_loader, model_save_path, tokenizer)\n"
   ]
  },
  {
   "cell_type": "code",
   "execution_count": 10,
   "metadata": {},
   "outputs": [
    {
     "name": "stdout",
     "output_type": "stream",
     "text": [
      "[{'generated_text': '人 乙'}]\n"
     ]
    }
   ],
   "source": [
    "text2text_generator = Text2TextGenerationPipeline(model.to('cpu'), tokenizer)\n",
    "example = \"请抽取字谜中的关键字：左边是人，右边是乙。字谜中的关键字是：[MASK]\"\n",
    "output = text2text_generator(example, max_length=max_length, do_sample=False)\n",
    "print(output)\n"
   ]
  }
 ],
 "metadata": {
  "kernelspec": {
   "display_name": "llm_env",
   "language": "python",
   "name": "python3"
  },
  "language_info": {
   "codemirror_mode": {
    "name": "ipython",
    "version": 3
   },
   "file_extension": ".py",
   "mimetype": "text/x-python",
   "name": "python",
   "nbconvert_exporter": "python",
   "pygments_lexer": "ipython3",
   "version": "3.10.13"
  }
 },
 "nbformat": 4,
 "nbformat_minor": 2
}
